{
 "cells": [
  {
   "cell_type": "code",
   "execution_count": 1,
   "metadata": {},
   "outputs": [],
   "source": [
    "import pandas as pd\n",
    "import numpy as np\n",
    "import matplotlib.pyplot as plt\n",
    "import seaborn as sns\n",
    "\n",
    "tit_data=pd.read_csv(\"C:/AiAnalyticsHub/titanic3.csv\")"
   ]
  },
  {
   "cell_type": "code",
   "execution_count": 2,
   "metadata": {},
   "outputs": [
    {
     "data": {
      "text/html": [
       "<div>\n",
       "<style scoped>\n",
       "    .dataframe tbody tr th:only-of-type {\n",
       "        vertical-align: middle;\n",
       "    }\n",
       "\n",
       "    .dataframe tbody tr th {\n",
       "        vertical-align: top;\n",
       "    }\n",
       "\n",
       "    .dataframe thead th {\n",
       "        text-align: right;\n",
       "    }\n",
       "</style>\n",
       "<table border=\"1\" class=\"dataframe\">\n",
       "  <thead>\n",
       "    <tr style=\"text-align: right;\">\n",
       "      <th></th>\n",
       "      <th>pclass</th>\n",
       "      <th>survived</th>\n",
       "      <th>name</th>\n",
       "      <th>sex</th>\n",
       "      <th>age</th>\n",
       "      <th>sibsp</th>\n",
       "      <th>parch</th>\n",
       "      <th>ticket</th>\n",
       "      <th>fare</th>\n",
       "      <th>cabin</th>\n",
       "      <th>embarked</th>\n",
       "      <th>boat</th>\n",
       "      <th>body</th>\n",
       "      <th>home.dest</th>\n",
       "    </tr>\n",
       "  </thead>\n",
       "  <tbody>\n",
       "    <tr>\n",
       "      <th>0</th>\n",
       "      <td>1.0</td>\n",
       "      <td>1.0</td>\n",
       "      <td>Allen, Miss. Elisabeth Walton</td>\n",
       "      <td>female</td>\n",
       "      <td>29.0000</td>\n",
       "      <td>0.0</td>\n",
       "      <td>0.0</td>\n",
       "      <td>24160</td>\n",
       "      <td>211.3375</td>\n",
       "      <td>B5</td>\n",
       "      <td>S</td>\n",
       "      <td>2</td>\n",
       "      <td>NaN</td>\n",
       "      <td>St Louis, MO</td>\n",
       "    </tr>\n",
       "    <tr>\n",
       "      <th>1</th>\n",
       "      <td>1.0</td>\n",
       "      <td>1.0</td>\n",
       "      <td>Allison, Master. Hudson Trevor</td>\n",
       "      <td>male</td>\n",
       "      <td>0.9167</td>\n",
       "      <td>1.0</td>\n",
       "      <td>2.0</td>\n",
       "      <td>113781</td>\n",
       "      <td>151.5500</td>\n",
       "      <td>C22 C26</td>\n",
       "      <td>S</td>\n",
       "      <td>11</td>\n",
       "      <td>NaN</td>\n",
       "      <td>Montreal, PQ / Chesterville, ON</td>\n",
       "    </tr>\n",
       "    <tr>\n",
       "      <th>2</th>\n",
       "      <td>1.0</td>\n",
       "      <td>0.0</td>\n",
       "      <td>Allison, Miss. Helen Loraine</td>\n",
       "      <td>female</td>\n",
       "      <td>2.0000</td>\n",
       "      <td>1.0</td>\n",
       "      <td>2.0</td>\n",
       "      <td>113781</td>\n",
       "      <td>151.5500</td>\n",
       "      <td>C22 C26</td>\n",
       "      <td>S</td>\n",
       "      <td>NaN</td>\n",
       "      <td>NaN</td>\n",
       "      <td>Montreal, PQ / Chesterville, ON</td>\n",
       "    </tr>\n",
       "    <tr>\n",
       "      <th>3</th>\n",
       "      <td>1.0</td>\n",
       "      <td>0.0</td>\n",
       "      <td>Allison, Mr. Hudson Joshua Creighton</td>\n",
       "      <td>male</td>\n",
       "      <td>30.0000</td>\n",
       "      <td>1.0</td>\n",
       "      <td>2.0</td>\n",
       "      <td>113781</td>\n",
       "      <td>151.5500</td>\n",
       "      <td>C22 C26</td>\n",
       "      <td>S</td>\n",
       "      <td>NaN</td>\n",
       "      <td>135.0</td>\n",
       "      <td>Montreal, PQ / Chesterville, ON</td>\n",
       "    </tr>\n",
       "    <tr>\n",
       "      <th>4</th>\n",
       "      <td>1.0</td>\n",
       "      <td>0.0</td>\n",
       "      <td>Allison, Mrs. Hudson J C (Bessie Waldo Daniels)</td>\n",
       "      <td>female</td>\n",
       "      <td>25.0000</td>\n",
       "      <td>1.0</td>\n",
       "      <td>2.0</td>\n",
       "      <td>113781</td>\n",
       "      <td>151.5500</td>\n",
       "      <td>C22 C26</td>\n",
       "      <td>S</td>\n",
       "      <td>NaN</td>\n",
       "      <td>NaN</td>\n",
       "      <td>Montreal, PQ / Chesterville, ON</td>\n",
       "    </tr>\n",
       "  </tbody>\n",
       "</table>\n",
       "</div>"
      ],
      "text/plain": [
       "   pclass  survived                                             name     sex  \\\n",
       "0     1.0       1.0                    Allen, Miss. Elisabeth Walton  female   \n",
       "1     1.0       1.0                   Allison, Master. Hudson Trevor    male   \n",
       "2     1.0       0.0                     Allison, Miss. Helen Loraine  female   \n",
       "3     1.0       0.0             Allison, Mr. Hudson Joshua Creighton    male   \n",
       "4     1.0       0.0  Allison, Mrs. Hudson J C (Bessie Waldo Daniels)  female   \n",
       "\n",
       "       age  sibsp  parch  ticket      fare    cabin embarked boat   body  \\\n",
       "0  29.0000    0.0    0.0   24160  211.3375       B5        S    2    NaN   \n",
       "1   0.9167    1.0    2.0  113781  151.5500  C22 C26        S   11    NaN   \n",
       "2   2.0000    1.0    2.0  113781  151.5500  C22 C26        S  NaN    NaN   \n",
       "3  30.0000    1.0    2.0  113781  151.5500  C22 C26        S  NaN  135.0   \n",
       "4  25.0000    1.0    2.0  113781  151.5500  C22 C26        S  NaN    NaN   \n",
       "\n",
       "                         home.dest  \n",
       "0                     St Louis, MO  \n",
       "1  Montreal, PQ / Chesterville, ON  \n",
       "2  Montreal, PQ / Chesterville, ON  \n",
       "3  Montreal, PQ / Chesterville, ON  \n",
       "4  Montreal, PQ / Chesterville, ON  "
      ]
     },
     "execution_count": 2,
     "metadata": {},
     "output_type": "execute_result"
    }
   ],
   "source": [
    "tit_data.head(5)"
   ]
  },
  {
   "cell_type": "code",
   "execution_count": 3,
   "metadata": {
    "scrolled": true
   },
   "outputs": [
    {
     "name": "stdout",
     "output_type": "stream",
     "text": [
      "Total Count of missing values for Age colomn : 264\n",
      "(array([  15,   37,   40,   46,   59,   69,   70,   74,   80,  106,  107,\n",
      "        108,  118,  121,  125,  134,  147,  152,  157,  166,  176,  179,\n",
      "        184,  196,  204,  219,  223,  235,  237,  241,  254,  256,  269,\n",
      "        277,  283,  293,  297,  318,  320,  363,  382,  384,  410,  469,\n",
      "        473,  477,  483,  491,  495,  524,  528,  531,  581,  595,  597,\n",
      "        672,  680,  681,  682,  705,  706,  756,  757,  767,  768,  775,\n",
      "        789,  795,  798,  800,  801,  802,  804,  805,  808,  812,  813,\n",
      "        815,  816,  819,  835,  842,  843,  852,  854,  856,  858,  865,\n",
      "        871,  872,  874,  876,  879,  882,  886,  887,  900,  901,  902,\n",
      "        903,  918,  920,  921,  922,  923,  926,  927,  928,  929,  930,\n",
      "        931,  940,  942,  944,  945,  946,  948,  954,  955,  956,  957,\n",
      "        958,  961,  962,  971,  973,  976,  982,  983,  984,  987,  988,\n",
      "        989,  991,  993,  994,  997,  998,  999, 1000, 1001, 1002, 1003,\n",
      "       1004, 1005, 1006, 1009, 1012, 1013, 1014, 1016, 1018, 1022, 1023,\n",
      "       1027, 1028, 1029, 1030, 1032, 1033, 1034, 1035, 1036, 1037, 1038,\n",
      "       1039, 1041, 1042, 1043, 1044, 1052, 1053, 1054, 1055, 1069, 1070,\n",
      "       1071, 1072, 1073, 1074, 1076, 1077, 1078, 1080, 1081, 1085, 1095,\n",
      "       1109, 1114, 1115, 1116, 1121, 1122, 1123, 1124, 1128, 1132, 1135,\n",
      "       1136, 1137, 1138, 1149, 1150, 1151, 1154, 1155, 1159, 1162, 1163,\n",
      "       1164, 1166, 1167, 1168, 1170, 1172, 1173, 1174, 1175, 1176, 1177,\n",
      "       1178, 1179, 1180, 1184, 1185, 1186, 1193, 1194, 1195, 1197, 1198,\n",
      "       1199, 1200, 1202, 1212, 1213, 1214, 1215, 1216, 1219, 1221, 1241,\n",
      "       1242, 1243, 1245, 1246, 1247, 1249, 1250, 1253, 1255, 1262, 1268,\n",
      "       1282, 1283, 1284, 1291, 1292, 1293, 1297, 1302, 1303, 1305, 1309],\n",
      "      dtype=int64),)\n"
     ]
    }
   ],
   "source": [
    "# Getting missing value rows of particular colomn :\n",
    "\n",
    "missing = np.where(tit_data[\"age\"].isnull() == True)\n",
    "print(\"Total Count of missing values for Age colomn :\",len(missing[0]))\n",
    "print(missing)"
   ]
  },
  {
   "cell_type": "code",
   "execution_count": 4,
   "metadata": {},
   "outputs": [],
   "source": [
    "tit=tit_data[['pclass','age','sex','embarked','survived','fare']]"
   ]
  },
  {
   "cell_type": "code",
   "execution_count": 5,
   "metadata": {},
   "outputs": [
    {
     "data": {
      "text/plain": [
       "pclass        1\n",
       "age         264\n",
       "sex           1\n",
       "embarked      3\n",
       "survived      1\n",
       "fare          2\n",
       "dtype: int64"
      ]
     },
     "execution_count": 5,
     "metadata": {},
     "output_type": "execute_result"
    }
   ],
   "source": [
    "tit.isnull().sum()"
   ]
  },
  {
   "cell_type": "code",
   "execution_count": 6,
   "metadata": {},
   "outputs": [],
   "source": [
    "# There are total 264 rows are NULL for age coloumn: So either we can remove those rows are we can fill with median value.\n",
    "# train_data['age'] = train_data['age'].fillna(train_data['age'].median())\n",
    "# But i am storing only valid data to train_data and i will test it first\n",
    "\n",
    "train_data=tit.dropna()"
   ]
  },
  {
   "cell_type": "code",
   "execution_count": 7,
   "metadata": {},
   "outputs": [],
   "source": [
    "## Create function to replace NaN with the median value for each ticket class\n",
    "def fill_missing_age(dataset):\n",
    "    for i in range(1,4):\n",
    "        median_age=dataset[dataset[\"Pclass\"]==i][\"Age\"].median()\n",
    "        dataset[\"Age\"]=dataset[\"Age\"].fillna(median_age)\n",
    "        return dataset"
   ]
  },
  {
   "cell_type": "code",
   "execution_count": 8,
   "metadata": {},
   "outputs": [
    {
     "data": {
      "text/plain": [
       "pclass      0\n",
       "age         0\n",
       "sex         0\n",
       "embarked    0\n",
       "survived    0\n",
       "fare        0\n",
       "dtype: int64"
      ]
     },
     "execution_count": 8,
     "metadata": {},
     "output_type": "execute_result"
    }
   ],
   "source": [
    "train_data.isnull().sum()"
   ]
  },
  {
   "cell_type": "code",
   "execution_count": 9,
   "metadata": {},
   "outputs": [
    {
     "data": {
      "text/plain": [
       "pclass      False\n",
       "age         False\n",
       "sex         False\n",
       "embarked    False\n",
       "survived    False\n",
       "fare        False\n",
       "dtype: bool"
      ]
     },
     "execution_count": 9,
     "metadata": {},
     "output_type": "execute_result"
    }
   ],
   "source": [
    "train_data.isnull().any()"
   ]
  },
  {
   "cell_type": "code",
   "execution_count": 10,
   "metadata": {
    "scrolled": true
   },
   "outputs": [
    {
     "data": {
      "text/html": [
       "<div>\n",
       "<style scoped>\n",
       "    .dataframe tbody tr th:only-of-type {\n",
       "        vertical-align: middle;\n",
       "    }\n",
       "\n",
       "    .dataframe tbody tr th {\n",
       "        vertical-align: top;\n",
       "    }\n",
       "\n",
       "    .dataframe thead th {\n",
       "        text-align: right;\n",
       "    }\n",
       "</style>\n",
       "<table border=\"1\" class=\"dataframe\">\n",
       "  <thead>\n",
       "    <tr style=\"text-align: right;\">\n",
       "      <th></th>\n",
       "      <th>pclass</th>\n",
       "      <th>age</th>\n",
       "      <th>sex</th>\n",
       "      <th>embarked</th>\n",
       "      <th>survived</th>\n",
       "      <th>fare</th>\n",
       "    </tr>\n",
       "  </thead>\n",
       "  <tbody>\n",
       "    <tr>\n",
       "      <th>0</th>\n",
       "      <td>1.0</td>\n",
       "      <td>29.0000</td>\n",
       "      <td>female</td>\n",
       "      <td>S</td>\n",
       "      <td>1.0</td>\n",
       "      <td>211.3375</td>\n",
       "    </tr>\n",
       "    <tr>\n",
       "      <th>1</th>\n",
       "      <td>1.0</td>\n",
       "      <td>0.9167</td>\n",
       "      <td>male</td>\n",
       "      <td>S</td>\n",
       "      <td>1.0</td>\n",
       "      <td>151.5500</td>\n",
       "    </tr>\n",
       "    <tr>\n",
       "      <th>2</th>\n",
       "      <td>1.0</td>\n",
       "      <td>2.0000</td>\n",
       "      <td>female</td>\n",
       "      <td>S</td>\n",
       "      <td>0.0</td>\n",
       "      <td>151.5500</td>\n",
       "    </tr>\n",
       "    <tr>\n",
       "      <th>3</th>\n",
       "      <td>1.0</td>\n",
       "      <td>30.0000</td>\n",
       "      <td>male</td>\n",
       "      <td>S</td>\n",
       "      <td>0.0</td>\n",
       "      <td>151.5500</td>\n",
       "    </tr>\n",
       "    <tr>\n",
       "      <th>4</th>\n",
       "      <td>1.0</td>\n",
       "      <td>25.0000</td>\n",
       "      <td>female</td>\n",
       "      <td>S</td>\n",
       "      <td>0.0</td>\n",
       "      <td>151.5500</td>\n",
       "    </tr>\n",
       "  </tbody>\n",
       "</table>\n",
       "</div>"
      ],
      "text/plain": [
       "   pclass      age     sex embarked  survived      fare\n",
       "0     1.0  29.0000  female        S       1.0  211.3375\n",
       "1     1.0   0.9167    male        S       1.0  151.5500\n",
       "2     1.0   2.0000  female        S       0.0  151.5500\n",
       "3     1.0  30.0000    male        S       0.0  151.5500\n",
       "4     1.0  25.0000  female        S       0.0  151.5500"
      ]
     },
     "execution_count": 10,
     "metadata": {},
     "output_type": "execute_result"
    }
   ],
   "source": [
    "train_data.head(5)"
   ]
  },
  {
   "cell_type": "code",
   "execution_count": 11,
   "metadata": {},
   "outputs": [
    {
     "data": {
      "text/plain": [
       "3.0    500\n",
       "1.0    282\n",
       "2.0    261\n",
       "Name: pclass, dtype: int64"
      ]
     },
     "execution_count": 11,
     "metadata": {},
     "output_type": "execute_result"
    }
   ],
   "source": [
    "train_data['pclass'].value_counts()"
   ]
  },
  {
   "cell_type": "code",
   "execution_count": 21,
   "metadata": {},
   "outputs": [
    {
     "data": {
      "image/png": "[encoded data removed]",
      "text/plain": [
       "<Figure size 1440x1080 with 4 Axes>"
      ]
     },
     "metadata": {
      "needs_background": "light"
     },
     "output_type": "display_data"
    }
   ],
   "source": [
    "%matplotlib inline\n",
    "train_data.hist(figsize=(20,15), bins=20)\n",
    "plt.show()"
   ]
  },
  {
   "cell_type": "code",
   "execution_count": 10,
   "metadata": {},
   "outputs": [
    {
     "data": {
      "text/plain": [
       "survived\n",
       "0.0    618\n",
       "1.0    425\n",
       "Name: survived, dtype: int64"
      ]
     },
     "execution_count": 10,
     "metadata": {},
     "output_type": "execute_result"
    }
   ],
   "source": [
    "train_data[['survived']].groupby('survived').survived.count()"
   ]
  },
  {
   "cell_type": "code",
   "execution_count": 11,
   "metadata": {},
   "outputs": [
    {
     "data": {
      "text/plain": [
       "sex     survived\n",
       "female  0.0          96\n",
       "        1.0         290\n",
       "male    0.0         522\n",
       "        1.0         135\n",
       "Name: survived, dtype: int64"
      ]
     },
     "execution_count": 11,
     "metadata": {},
     "output_type": "execute_result"
    }
   ],
   "source": [
    "train_data[['sex','survived']].groupby(['sex','survived']).survived.count()"
   ]
  },
  {
   "cell_type": "code",
   "execution_count": 12,
   "metadata": {},
   "outputs": [
    {
     "data": {
      "text/plain": [
       "pclass  survived\n",
       "1.0     0.0         103\n",
       "        1.0         179\n",
       "2.0     0.0         146\n",
       "        1.0         115\n",
       "3.0     0.0         369\n",
       "        1.0         131\n",
       "Name: survived, dtype: int64"
      ]
     },
     "execution_count": 12,
     "metadata": {},
     "output_type": "execute_result"
    }
   ],
   "source": [
    "train_data[['pclass','sex','survived']].groupby(['pclass','survived']).survived.count()"
   ]
  },
  {
   "cell_type": "code",
   "execution_count": 13,
   "metadata": {},
   "outputs": [
    {
     "data": {
      "text/plain": [
       "embarked  pclass  survived\n",
       "C         1.0     0.0          39\n",
       "                  1.0          89\n",
       "          2.0     0.0           9\n",
       "                  1.0          15\n",
       "          3.0     0.0          32\n",
       "                  1.0          28\n",
       "Q         1.0     0.0           1\n",
       "                  1.0           2\n",
       "          2.0     0.0           4\n",
       "                  1.0           1\n",
       "          3.0     0.0          32\n",
       "                  1.0          10\n",
       "S         1.0     0.0          63\n",
       "                  1.0          88\n",
       "          2.0     0.0         133\n",
       "                  1.0          99\n",
       "          3.0     0.0         305\n",
       "                  1.0          93\n",
       "Name: survived, dtype: int64"
      ]
     },
     "execution_count": 13,
     "metadata": {},
     "output_type": "execute_result"
    }
   ],
   "source": [
    "train_data[['embarked','pclass','survived']].groupby(['embarked','pclass','survived']).survived.count()"
   ]
  },
  {
   "cell_type": "code",
   "execution_count": 22,
   "metadata": {},
   "outputs": [
    {
     "data": {
      "text/plain": [
       "<matplotlib.axes._subplots.AxesSubplot at 0x4043789828>"
      ]
     },
     "execution_count": 22,
     "metadata": {},
     "output_type": "execute_result"
    },
    {
     "data": {
      "image/png": "[encoded data removed]",
      "text/plain": [
       "<Figure size 432x288 with 1 Axes>"
      ]
     },
     "metadata": {
      "needs_background": "light"
     },
     "output_type": "display_data"
    }
   ],
   "source": [
    "train_data[['sex','survived']].groupby('sex').survived.count().plot(kind='bar')"
   ]
  },
  {
   "cell_type": "code",
   "execution_count": 82,
   "metadata": {},
   "outputs": [
    {
     "data": {
      "text/plain": [
       "<matplotlib.axes._subplots.AxesSubplot at 0x2eb2755748>"
      ]
     },
     "execution_count": 82,
     "metadata": {},
     "output_type": "execute_result"
    },
    {
     "data": {
      "image/png": "[encoded data removed]",
      "text/plain": [
       "<Figure size 432x288 with 1 Axes>"
      ]
     },
     "metadata": {
      "needs_background": "light"
     },
     "output_type": "display_data"
    }
   ],
   "source": [
    "# Females are the one survived more upto 75% :\n",
    "sns.barplot(x='sex', y='survived', data=train_data)"
   ]
  },
  {
   "cell_type": "code",
   "execution_count": 83,
   "metadata": {},
   "outputs": [
    {
     "data": {
      "text/plain": [
       "<matplotlib.axes._subplots.AxesSubplot at 0x2eb0f69dd8>"
      ]
     },
     "execution_count": 83,
     "metadata": {},
     "output_type": "execute_result"
    },
    {
     "data": {
      "image/png": "[encoded data removed]",
      "text/plain": [
       "<Figure size 432x288 with 1 Axes>"
      ]
     },
     "metadata": {
      "needs_background": "light"
     },
     "output_type": "display_data"
    }
   ],
   "source": [
    "# Higher the class, higher the chance of survival :\n",
    "\n",
    "sns.barplot(x='pclass', y='survived', data=train_data)"
   ]
  },
  {
   "cell_type": "code",
   "execution_count": 84,
   "metadata": {},
   "outputs": [
    {
     "data": {
      "text/plain": [
       "<matplotlib.axes._subplots.AxesSubplot at 0x2eb27f38d0>"
      ]
     },
     "execution_count": 84,
     "metadata": {},
     "output_type": "execute_result"
    },
    {
     "data": {
      "image/png": "[encoded data removed]",
      "text/plain": [
       "<Figure size 432x288 with 1 Axes>"
      ]
     },
     "metadata": {
      "needs_background": "light"
     },
     "output_type": "display_data"
    }
   ],
   "source": [
    "train_data.plot.scatter('survived','age')"
   ]
  },
  {
   "cell_type": "code",
   "execution_count": 85,
   "metadata": {},
   "outputs": [
    {
     "data": {
      "text/plain": [
       "array([[<matplotlib.axes._subplots.AxesSubplot object at 0x0000002EB0E03898>]],\n",
       "      dtype=object)"
      ]
     },
     "execution_count": 85,
     "metadata": {},
     "output_type": "execute_result"
    },
    {
     "data": {
      "image/png": "[encoded data removed]",
      "text/plain": [
       "<Figure size 648x432 with 1 Axes>"
      ]
     },
     "metadata": {
      "needs_background": "light"
     },
     "output_type": "display_data"
    }
   ],
   "source": [
    "train_data.hist(column='age',    # Colomn to plot\n",
    "                figsize=(9,6),   # Plot size\n",
    "                bins=20)         # Number of histogram bins"
   ]
  },
  {
   "cell_type": "code",
   "execution_count": 45,
   "metadata": {
    "scrolled": false
   },
   "outputs": [
    {
     "name": "stderr",
     "output_type": "stream",
     "text": [
      "C:\\Users\\julian\\Anaconda3\\lib\\site-packages\\ipykernel_launcher.py:5: SettingWithCopyWarning: \n",
      "A value is trying to be set on a copy of a slice from a DataFrame.\n",
      "Try using .loc[row_indexer,col_indexer] = value instead\n",
      "\n",
      "See the caveats in the documentation: http://pandas.pydata.org/pandas-docs/stable/indexing.html#indexing-view-versus-copy\n",
      "  \"\"\"\n"
     ]
    },
    {
     "data": {
      "image/png": "[encoded data removed]",
      "text/plain": [
       "<Figure size 576x288 with 1 Axes>"
      ]
     },
     "metadata": {
      "needs_background": "light"
     },
     "output_type": "display_data"
    }
   ],
   "source": [
    "#Let's visualize survival based on the gender.\n",
    "# agg('sum')[['survived', 'Not_Survived']] wil give count of survived and not survived by simply counting entire coloumn.\n",
    "\n",
    "survi_data=train_data[['sex','age','survived']]\n",
    "survi_data['Not_Survived'] = 1 - survi_data['survived']\n",
    "survi_data.groupby('sex').agg('sum')[['survived', 'Not_Survived']].plot(kind='bar', figsize=(8, 4),\n",
    "                                                                        stacked=True, color=['g', 'r']);"
   ]
  },
  {
   "cell_type": "code",
   "execution_count": 46,
   "metadata": {},
   "outputs": [
    {
     "data": {
      "image/png": "[encoded data removed]",
      "text/plain": [
       "<Figure size 576x288 with 1 Axes>"
      ]
     },
     "metadata": {
      "needs_background": "light"
     },
     "output_type": "display_data"
    }
   ],
   "source": [
    "#Let's plot the same graph but with ratio instead.\n",
    "\n",
    "survi_data.groupby('sex').agg('mean')[['survived', 'Not_Survived']].plot(kind='bar', figsize=(8, 4), \n",
    "                                                           stacked=True, color=['g', 'r']);"
   ]
  },
  {
   "cell_type": "code",
   "execution_count": 47,
   "metadata": {},
   "outputs": [
    {
     "data": {
      "text/html": [
       "<div>\n",
       "<style scoped>\n",
       "    .dataframe tbody tr th:only-of-type {\n",
       "        vertical-align: middle;\n",
       "    }\n",
       "\n",
       "    .dataframe tbody tr th {\n",
       "        vertical-align: top;\n",
       "    }\n",
       "\n",
       "    .dataframe thead th {\n",
       "        text-align: right;\n",
       "    }\n",
       "</style>\n",
       "<table border=\"1\" class=\"dataframe\">\n",
       "  <thead>\n",
       "    <tr style=\"text-align: right;\">\n",
       "      <th></th>\n",
       "      <th>sex</th>\n",
       "      <th>age</th>\n",
       "      <th>survived</th>\n",
       "      <th>Not_Survived</th>\n",
       "    </tr>\n",
       "  </thead>\n",
       "  <tbody>\n",
       "    <tr>\n",
       "      <th>0</th>\n",
       "      <td>female</td>\n",
       "      <td>29.0000</td>\n",
       "      <td>1.0</td>\n",
       "      <td>0.0</td>\n",
       "    </tr>\n",
       "    <tr>\n",
       "      <th>1</th>\n",
       "      <td>male</td>\n",
       "      <td>0.9167</td>\n",
       "      <td>1.0</td>\n",
       "      <td>0.0</td>\n",
       "    </tr>\n",
       "    <tr>\n",
       "      <th>2</th>\n",
       "      <td>female</td>\n",
       "      <td>2.0000</td>\n",
       "      <td>0.0</td>\n",
       "      <td>1.0</td>\n",
       "    </tr>\n",
       "  </tbody>\n",
       "</table>\n",
       "</div>"
      ],
      "text/plain": [
       "      sex      age  survived  Not_Survived\n",
       "0  female  29.0000       1.0           0.0\n",
       "1    male   0.9167       1.0           0.0\n",
       "2  female   2.0000       0.0           1.0"
      ]
     },
     "execution_count": 47,
     "metadata": {},
     "output_type": "execute_result"
    }
   ],
   "source": [
    "# Conclusion from above data :\n",
    "#The Sex variable seems to be a discriminative feature. Women are more likely to survive.\n",
    "\n",
    "survi_data.head(3)"
   ]
  },
  {
   "cell_type": "code",
   "execution_count": 38,
   "metadata": {
    "scrolled": true
   },
   "outputs": [
    {
     "data": {
      "image/png": "[encoded data removed]",
      "text/plain": [
       "<Figure size 576x360 with 1 Axes>"
      ]
     },
     "metadata": {
      "needs_background": "light"
     },
     "output_type": "display_data"
    }
   ],
   "source": [
    "#Let's now correlate the survival with the age variable.\n",
    "\n",
    "fig = plt.figure(figsize=(8, 5))\n",
    "sns.violinplot(x='sex', y='age', \n",
    "               hue='survived', data=train_data, \n",
    "               split=True,\n",
    "               palette={0: \"r\", 1: \"g\"}\n",
    "              );"
   ]
  },
  {
   "cell_type": "code",
   "execution_count": 35,
   "metadata": {},
   "outputs": [
    {
     "data": {
      "text/plain": [
       "<matplotlib.axes._subplots.AxesSubplot at 0xbc7abfd160>"
      ]
     },
     "execution_count": 35,
     "metadata": {},
     "output_type": "execute_result"
    },
    {
     "data": {
      "image/png": "[encoded data removed]",
      "text/plain": [
       "<Figure size 1152x720 with 6 Axes>"
      ]
     },
     "metadata": {
      "needs_background": "light"
     },
     "output_type": "display_data"
    }
   ],
   "source": [
    "figbi, axesbi = plt.subplots(2, 3, figsize=(16, 10))\n",
    "train_data.groupby('pclass')['survived'].mean().plot(kind='barh',ax=axesbi[0,0],xlim=[0,1])\n",
    "train_data.groupby('sex')['survived'].mean().plot(kind='barh',ax=axesbi[0,1],xlim=[0,1])\n",
    "train_data.groupby('embarked')['survived'].mean().plot(kind='barh',ax=axesbi[1,0],xlim=[0,1])\n",
    "sns.boxplot(x=\"survived\", y=\"age\", data=train_data,ax=axesbi[1, 1])\n",
    "sns.boxplot(x=\"survived\", y=\"fare\", data=train_data,ax=axesbi[1,2])"
   ]
  },
  {
   "cell_type": "code",
   "execution_count": 30,
   "metadata": {},
   "outputs": [
    {
     "data": {
      "image/png": "[encoded data removed]",
      "text/plain": [
       "<Figure size 432x288 with 1 Axes>"
      ]
     },
     "metadata": {
      "needs_background": "light"
     },
     "output_type": "display_data"
    }
   ],
   "source": [
    "\n",
    "train_data[['sex','survived']].groupby(['sex']).mean().plot.bar()\n",
    "sns.countplot('sex',hue='survived',data=train_data,)\n",
    "plt.show()"
   ]
  },
  {
   "cell_type": "code",
   "execution_count": 31,
   "metadata": {},
   "outputs": [
    {
     "data": {
      "image/png": "[encoded data removed]",
      "text/plain": [
       "<Figure size 432x288 with 1 Axes>"
      ]
     },
     "metadata": {
      "needs_background": "light"
     },
     "output_type": "display_data"
    }
   ],
   "source": [
    "sns.countplot('pclass', hue='survived', data=train_data)\n",
    "plt.title('pclass: Sruvived vs Dead')\n",
    "plt.show()"
   ]
  },
  {
   "cell_type": "code",
   "execution_count": null,
   "metadata": {},
   "outputs": [],
   "source": [
    "# Stats from the above data analysis for 'gender','survived' :\n",
    "\n",
    "# The age conditions the survival for male passengers:\n",
    "# Younger male tend to survive\n",
    "# A large number of passengers between 20 and 40 died\n",
    "# The age doesn't seem to have a direct impact on the female survival\n",
    "# These violin plots confirm that one old code of conduct that sailors and captains \n",
    "# follow in case of threatening situations: \"Women and children first !\"."
   ]
  },
  {
   "cell_type": "code",
   "execution_count": 51,
   "metadata": {
    "scrolled": true
   },
   "outputs": [
    {
     "data": {
      "text/plain": [
       "fare      survived\n",
       "0.0000    0.0          6\n",
       "          1.0          2\n",
       "3.1708    1.0          1\n",
       "4.0125    0.0          1\n",
       "5.0000    0.0          1\n",
       "6.2375    0.0          1\n",
       "6.4375    0.0          1\n",
       "6.4500    0.0          1\n",
       "6.4958    0.0          3\n",
       "6.7500    0.0          2\n",
       "6.9500    1.0          1\n",
       "6.9750    0.0          1\n",
       "          1.0          1\n",
       "7.0000    1.0          1\n",
       "7.0458    0.0          1\n",
       "7.0500    0.0          7\n",
       "7.0542    0.0          2\n",
       "7.1250    0.0          4\n",
       "7.1417    1.0          1\n",
       "7.2250    0.0          9\n",
       "          1.0          4\n",
       "7.2292    0.0          8\n",
       "          1.0          5\n",
       "7.2500    0.0         13\n",
       "          1.0          1\n",
       "7.2833    0.0          1\n",
       "7.4958    0.0          2\n",
       "          1.0          1\n",
       "7.5208    0.0          1\n",
       "7.5500    0.0          1\n",
       "                      ..\n",
       "113.2750  1.0          2\n",
       "120.0000  1.0          4\n",
       "133.6500  1.0          1\n",
       "134.5000  1.0          5\n",
       "135.6333  0.0          1\n",
       "          1.0          3\n",
       "136.7792  0.0          1\n",
       "          1.0          1\n",
       "146.5208  0.0          1\n",
       "          1.0          1\n",
       "151.5500  0.0          3\n",
       "          1.0          3\n",
       "153.4625  0.0          1\n",
       "          1.0          2\n",
       "164.8667  0.0          1\n",
       "          1.0          3\n",
       "211.3375  1.0          4\n",
       "211.5000  0.0          3\n",
       "          1.0          2\n",
       "221.7792  0.0          2\n",
       "          1.0          1\n",
       "227.5250  0.0          1\n",
       "          1.0          3\n",
       "247.5208  0.0          1\n",
       "          1.0          2\n",
       "262.3750  0.0          1\n",
       "          1.0          6\n",
       "263.0000  0.0          2\n",
       "          1.0          4\n",
       "512.3292  1.0          4\n",
       "Name: survived, Length: 352, dtype: int64"
      ]
     },
     "execution_count": 51,
     "metadata": {},
     "output_type": "execute_result"
    }
   ],
   "source": [
    "#Let's now focus on the Fare ticket of each passenger and see how it could impact the survival:\n",
    "\n",
    "train_data[['fare','survived']].groupby(['fare','survived']).survived.count()"
   ]
  },
  {
   "cell_type": "code",
   "execution_count": 55,
   "metadata": {},
   "outputs": [
    {
     "data": {
      "image/png": "[encoded data removed]",
      "text/plain": [
       "<Figure size 576x288 with 1 Axes>"
      ]
     },
     "metadata": {
      "needs_background": "light"
     },
     "output_type": "display_data"
    }
   ],
   "source": [
    "figure = plt.figure(figsize=(8, 4))\n",
    "plt.hist([train_data[train_data['survived'] == 1]['fare'], train_data[train_data['survived'] == 0]['fare']], \n",
    "         stacked=True, color = ['g','r'],\n",
    "         bins = 50, label = ['Survived','Not Survived'])\n",
    "plt.xlabel('Fare')\n",
    "plt.ylabel('Number of passengers')\n",
    "plt.legend();\n",
    "\n",
    "# Bins : A data point is included in a particular bin if the number is greater than the lowest bound and equal to or less than \n",
    "# the greatest bound for the data bin. It is a range of set of data points"
   ]
  },
  {
   "cell_type": "code",
   "execution_count": null,
   "metadata": {},
   "outputs": [],
   "source": [
    "# Stats from the above Data Analysis for 'fare','survived' :\n",
    "\n",
    "# passengers with more expensive tickets are survived.\n",
    "# Higher the ticket price, higher the chance of survival."
   ]
  },
  {
   "cell_type": "code",
   "execution_count": 62,
   "metadata": {},
   "outputs": [
    {
     "data": {
      "image/png": "[encoded data removed]",
      "text/plain": [
       "<Figure size 576x288 with 1 Axes>"
      ]
     },
     "metadata": {
      "needs_background": "light"
     },
     "output_type": "display_data"
    }
   ],
   "source": [
    "# As a matter of fact, the ticket fare correlates with the class as we see it in the chart below.\n",
    "\n",
    "ax = plt.subplot()\n",
    "ax.set_ylabel('Average fare')\n",
    "train_data.groupby('pclass').mean()['fare'].plot(kind='bar', figsize=(8, 4), ax = ax);"
   ]
  },
  {
   "cell_type": "code",
   "execution_count": 63,
   "metadata": {},
   "outputs": [
    {
     "data": {
      "image/png": "[encoded data removed]",
      "text/plain": [
       "<Figure size 576x288 with 1 Axes>"
      ]
     },
     "metadata": {
      "needs_background": "light"
     },
     "output_type": "display_data"
    }
   ],
   "source": [
    "#Let's now see how the embarkation site affects the survival.\n",
    "\n",
    "fig = plt.figure(figsize=(8, 4))\n",
    "sns.violinplot(x='embarked', y='fare', hue='survived', data=train_data, split=True, palette={0: \"r\", 1: \"g\"});"
   ]
  },
  {
   "cell_type": "code",
   "execution_count": null,
   "metadata": {},
   "outputs": [],
   "source": [
    "#It seems that the embarkation C have a wider range of fare tickets \n",
    "# and therefore the passengers who pay the highest prices are those who survive."
   ]
  },
  {
   "cell_type": "code",
   "execution_count": 88,
   "metadata": {},
   "outputs": [
    {
     "data": {
      "text/html": [
       "<div>\n",
       "<style scoped>\n",
       "    .dataframe tbody tr th:only-of-type {\n",
       "        vertical-align: middle;\n",
       "    }\n",
       "\n",
       "    .dataframe tbody tr th {\n",
       "        vertical-align: top;\n",
       "    }\n",
       "\n",
       "    .dataframe thead th {\n",
       "        text-align: right;\n",
       "    }\n",
       "</style>\n",
       "<table border=\"1\" class=\"dataframe\">\n",
       "  <thead>\n",
       "    <tr style=\"text-align: right;\">\n",
       "      <th></th>\n",
       "      <th>pclass</th>\n",
       "      <th>age</th>\n",
       "      <th>sex</th>\n",
       "      <th>embarked</th>\n",
       "      <th>survived</th>\n",
       "      <th>fare</th>\n",
       "    </tr>\n",
       "  </thead>\n",
       "  <tbody>\n",
       "    <tr>\n",
       "      <th>0</th>\n",
       "      <td>1.0</td>\n",
       "      <td>29.0000</td>\n",
       "      <td>female</td>\n",
       "      <td>S</td>\n",
       "      <td>1.0</td>\n",
       "      <td>211.3375</td>\n",
       "    </tr>\n",
       "    <tr>\n",
       "      <th>1</th>\n",
       "      <td>1.0</td>\n",
       "      <td>0.9167</td>\n",
       "      <td>male</td>\n",
       "      <td>S</td>\n",
       "      <td>1.0</td>\n",
       "      <td>151.5500</td>\n",
       "    </tr>\n",
       "    <tr>\n",
       "      <th>2</th>\n",
       "      <td>1.0</td>\n",
       "      <td>2.0000</td>\n",
       "      <td>female</td>\n",
       "      <td>S</td>\n",
       "      <td>0.0</td>\n",
       "      <td>151.5500</td>\n",
       "    </tr>\n",
       "    <tr>\n",
       "      <th>3</th>\n",
       "      <td>1.0</td>\n",
       "      <td>30.0000</td>\n",
       "      <td>male</td>\n",
       "      <td>S</td>\n",
       "      <td>0.0</td>\n",
       "      <td>151.5500</td>\n",
       "    </tr>\n",
       "    <tr>\n",
       "      <th>4</th>\n",
       "      <td>1.0</td>\n",
       "      <td>25.0000</td>\n",
       "      <td>female</td>\n",
       "      <td>S</td>\n",
       "      <td>0.0</td>\n",
       "      <td>151.5500</td>\n",
       "    </tr>\n",
       "  </tbody>\n",
       "</table>\n",
       "</div>"
      ],
      "text/plain": [
       "   pclass      age     sex embarked  survived      fare\n",
       "0     1.0  29.0000  female        S       1.0  211.3375\n",
       "1     1.0   0.9167    male        S       1.0  151.5500\n",
       "2     1.0   2.0000  female        S       0.0  151.5500\n",
       "3     1.0  30.0000    male        S       0.0  151.5500\n",
       "4     1.0  25.0000  female        S       0.0  151.5500"
      ]
     },
     "execution_count": 88,
     "metadata": {},
     "output_type": "execute_result"
    }
   ],
   "source": [
    "train_data.head()"
   ]
  },
  {
   "cell_type": "code",
   "execution_count": null,
   "metadata": {},
   "outputs": [],
   "source": [
    "# Counting who are survived in the Titanic crash based on thier age:\n",
    "\n",
    "survive = train_data[train_data[\"survived\"] == 'Survived']\n",
    "not_survived = train_data[train_data[\"survived\"] == 'Not Survived']\n",
    "\n",
    "survive[\"age\"].plot.hist(alpha=0.5,color='red',bins=50)\n",
    "not_survived[\"age\"].plot.hist(alpha=0.5,color='blue',bins=50)\n",
    "\n",
    "plt.legend(['Survived','Not Survived'])\n",
    "plt.xlabel(\"Age Group of Passengers\")\n",
    "plt.ylabel(\"Count of Survived and Not Survived\")\n",
    "plt.show()"
   ]
  },
  {
   "cell_type": "code",
   "execution_count": null,
   "metadata": {},
   "outputs": [],
   "source": [
    "survived[\"pclass\"].plot.hist(alpha=0.5,color='red',bins=50)\n",
    "not_survived[\"pclass\"].plot.hist(alpha=0.5,color='blue',bins=50)\n",
    "\n",
    "plt.legend(['Survived','Not Survived'])\n",
    "plt.xlabel(\"pclass 1 2 3 Passengers\")\n",
    "plt.ylabel(\"Count of Survived and Not Survived\")\n",
    "plt.show()"
   ]
  },
  {
   "cell_type": "code",
   "execution_count": 74,
   "metadata": {},
   "outputs": [
    {
     "data": {
      "text/plain": [
       "count     1043\n",
       "unique       2\n",
       "top       male\n",
       "freq       657\n",
       "Name: sex, dtype: object"
      ]
     },
     "execution_count": 74,
     "metadata": {},
     "output_type": "execute_result"
    }
   ],
   "source": [
    "train_data['sex'].describe()"
   ]
  },
  {
   "cell_type": "code",
   "execution_count": 107,
   "metadata": {},
   "outputs": [
    {
     "name": "stderr",
     "output_type": "stream",
     "text": [
      "C:\\Users\\julian\\Anaconda3\\lib\\site-packages\\pandas\\core\\generic.py:7626: SettingWithCopyWarning: \n",
      "A value is trying to be set on a copy of a slice from a DataFrame\n",
      "\n",
      "See the caveats in the documentation: http://pandas.pydata.org/pandas-docs/stable/indexing.html#indexing-view-versus-copy\n",
      "  self._update_inplace(new_data)\n",
      "C:\\Users\\julian\\Anaconda3\\lib\\site-packages\\IPython\\core\\interactiveshell.py:3267: SettingWithCopyWarning: \n",
      "A value is trying to be set on a copy of a slice from a DataFrame\n",
      "\n",
      "See the caveats in the documentation: http://pandas.pydata.org/pandas-docs/stable/indexing.html#indexing-view-versus-copy\n",
      "  exec(code_obj, self.user_global_ns, self.user_ns)\n",
      "C:\\Users\\julian\\Anaconda3\\lib\\site-packages\\ipykernel_launcher.py:4: SettingWithCopyWarning: \n",
      "A value is trying to be set on a copy of a slice from a DataFrame\n",
      "\n",
      "See the caveats in the documentation: http://pandas.pydata.org/pandas-docs/stable/indexing.html#indexing-view-versus-copy\n",
      "  after removing the cwd from sys.path.\n",
      "C:\\Users\\julian\\Anaconda3\\lib\\site-packages\\ipykernel_launcher.py:5: SettingWithCopyWarning: \n",
      "A value is trying to be set on a copy of a slice from a DataFrame\n",
      "\n",
      "See the caveats in the documentation: http://pandas.pydata.org/pandas-docs/stable/indexing.html#indexing-view-versus-copy\n",
      "  \"\"\"\n"
     ]
    },
    {
     "name": "stdout",
     "output_type": "stream",
     "text": [
      "      pclass\n",
      "0  P class 1\n",
      "1  P class 1\n",
      "2  P class 1\n"
     ]
    },
    {
     "data": {
      "text/plain": [
       "count          1043\n",
       "unique            3\n",
       "top       P class 3\n",
       "freq            500\n",
       "Name: pclass, dtype: object"
      ]
     },
     "execution_count": 107,
     "metadata": {},
     "output_type": "execute_result"
    }
   ],
   "source": [
    "pclass_data=train_data[['pclass']]\n",
    "pclass_data.pclass[pclass_data.pclass==1]='P class 1'\n",
    "pclass_data.pclass[pclass_data.pclass==2]='P class 2'\n",
    "pclass_data.pclass[pclass_data.pclass==3]='P class 3'\n",
    "\n",
    "print(pclass_data.head(3))\n",
    "pclass_data['pclass'].describe()"
   ]
  },
  {
   "cell_type": "code",
   "execution_count": 96,
   "metadata": {},
   "outputs": [
    {
     "data": {
      "text/html": [
       "<div>\n",
       "<style scoped>\n",
       "    .dataframe tbody tr th:only-of-type {\n",
       "        vertical-align: middle;\n",
       "    }\n",
       "\n",
       "    .dataframe tbody tr th {\n",
       "        vertical-align: top;\n",
       "    }\n",
       "\n",
       "    .dataframe thead th {\n",
       "        text-align: right;\n",
       "    }\n",
       "</style>\n",
       "<table border=\"1\" class=\"dataframe\">\n",
       "  <thead>\n",
       "    <tr style=\"text-align: right;\">\n",
       "      <th></th>\n",
       "      <th>counts</th>\n",
       "      <th>freqs</th>\n",
       "    </tr>\n",
       "    <tr>\n",
       "      <th>categories</th>\n",
       "      <th></th>\n",
       "      <th></th>\n",
       "    </tr>\n",
       "  </thead>\n",
       "  <tbody>\n",
       "    <tr>\n",
       "      <th>Not Survived</th>\n",
       "      <td>618</td>\n",
       "      <td>0.592522</td>\n",
       "    </tr>\n",
       "    <tr>\n",
       "      <th>Survived</th>\n",
       "      <td>425</td>\n",
       "      <td>0.407478</td>\n",
       "    </tr>\n",
       "  </tbody>\n",
       "</table>\n",
       "</div>"
      ],
      "text/plain": [
       "              counts     freqs\n",
       "categories                    \n",
       "Not Survived     618  0.592522\n",
       "Survived         425  0.407478"
      ]
     },
     "execution_count": 96,
     "metadata": {},
     "output_type": "execute_result"
    }
   ],
   "source": [
    "new_survived = pd.Categorical(train_data[\"survived\"])\n",
    "new_survived = new_survived.rename_categories([\"Not Survived\",\"Survived\"])              \n",
    "\n",
    "new_survived.describe()"
   ]
  },
  {
   "cell_type": "code",
   "execution_count": 112,
   "metadata": {},
   "outputs": [
    {
     "data": {
      "text/html": [
       "<div>\n",
       "<style scoped>\n",
       "    .dataframe tbody tr th:only-of-type {\n",
       "        vertical-align: middle;\n",
       "    }\n",
       "\n",
       "    .dataframe tbody tr th {\n",
       "        vertical-align: top;\n",
       "    }\n",
       "\n",
       "    .dataframe thead th {\n",
       "        text-align: right;\n",
       "    }\n",
       "</style>\n",
       "<table border=\"1\" class=\"dataframe\">\n",
       "  <thead>\n",
       "    <tr style=\"text-align: right;\">\n",
       "      <th></th>\n",
       "      <th>counts</th>\n",
       "      <th>freqs</th>\n",
       "    </tr>\n",
       "    <tr>\n",
       "      <th>categories</th>\n",
       "      <th></th>\n",
       "      <th></th>\n",
       "    </tr>\n",
       "  </thead>\n",
       "  <tbody>\n",
       "    <tr>\n",
       "      <th>Class1</th>\n",
       "      <td>282</td>\n",
       "      <td>0.270374</td>\n",
       "    </tr>\n",
       "    <tr>\n",
       "      <th>Class2</th>\n",
       "      <td>261</td>\n",
       "      <td>0.250240</td>\n",
       "    </tr>\n",
       "    <tr>\n",
       "      <th>Class3</th>\n",
       "      <td>500</td>\n",
       "      <td>0.479386</td>\n",
       "    </tr>\n",
       "  </tbody>\n",
       "</table>\n",
       "</div>"
      ],
      "text/plain": [
       "            counts     freqs\n",
       "categories                  \n",
       "Class1         282  0.270374\n",
       "Class2         261  0.250240\n",
       "Class3         500  0.479386"
      ]
     },
     "execution_count": 112,
     "metadata": {},
     "output_type": "execute_result"
    }
   ],
   "source": [
    "new_Pclass = pd.Categorical(train_data[\"pclass\"],ordered=True)\n",
    "new_Pclass = new_Pclass.rename_categories([\"Class1\",\"Class2\",\"Class3\"])     \n",
    "new_Pclass.describe()"
   ]
  },
  {
   "cell_type": "code",
   "execution_count": 124,
   "metadata": {},
   "outputs": [
    {
     "data": {
      "text/plain": [
       "<matplotlib.axes._subplots.AxesSubplot at 0x97f957710>"
      ]
     },
     "execution_count": 124,
     "metadata": {},
     "output_type": "execute_result"
    },
    {
     "data": {
      "image/png": "[encoded data removed]",
      "text/plain": [
       "<Figure size 648x648 with 1 Axes>"
      ]
     },
     "metadata": {
      "needs_background": "light"
     },
     "output_type": "display_data"
    }
   ],
   "source": [
    "train_data[\"fare\"].plot(kind=\"box\",figsize=(9,9))"
   ]
  },
  {
   "cell_type": "code",
   "execution_count": 127,
   "metadata": {},
   "outputs": [
    {
     "data": {
      "text/html": [
       "<div>\n",
       "<style scoped>\n",
       "    .dataframe tbody tr th:only-of-type {\n",
       "        vertical-align: middle;\n",
       "    }\n",
       "\n",
       "    .dataframe tbody tr th {\n",
       "        vertical-align: top;\n",
       "    }\n",
       "\n",
       "    .dataframe thead th {\n",
       "        text-align: right;\n",
       "    }\n",
       "</style>\n",
       "<table border=\"1\" class=\"dataframe\">\n",
       "  <thead>\n",
       "    <tr style=\"text-align: right;\">\n",
       "      <th></th>\n",
       "      <th>pclass</th>\n",
       "      <th>survived</th>\n",
       "      <th>name</th>\n",
       "      <th>sex</th>\n",
       "      <th>age</th>\n",
       "      <th>sibsp</th>\n",
       "      <th>parch</th>\n",
       "      <th>ticket</th>\n",
       "      <th>fare</th>\n",
       "      <th>cabin</th>\n",
       "      <th>embarked</th>\n",
       "      <th>boat</th>\n",
       "      <th>body</th>\n",
       "      <th>home.dest</th>\n",
       "    </tr>\n",
       "  </thead>\n",
       "  <tbody>\n",
       "    <tr>\n",
       "      <th>49</th>\n",
       "      <td>1.0</td>\n",
       "      <td>1.0</td>\n",
       "      <td>Cardeza, Mr. Thomas Drake Martinez</td>\n",
       "      <td>male</td>\n",
       "      <td>36.0</td>\n",
       "      <td>0.0</td>\n",
       "      <td>1.0</td>\n",
       "      <td>PC 17755</td>\n",
       "      <td>512.3292</td>\n",
       "      <td>B51 B53 B55</td>\n",
       "      <td>C</td>\n",
       "      <td>3</td>\n",
       "      <td>NaN</td>\n",
       "      <td>Austria-Hungary / Germantown, Philadelphia, PA</td>\n",
       "    </tr>\n",
       "    <tr>\n",
       "      <th>50</th>\n",
       "      <td>1.0</td>\n",
       "      <td>1.0</td>\n",
       "      <td>Cardeza, Mrs. James Warburton Martinez (Charlo...</td>\n",
       "      <td>female</td>\n",
       "      <td>58.0</td>\n",
       "      <td>0.0</td>\n",
       "      <td>1.0</td>\n",
       "      <td>PC 17755</td>\n",
       "      <td>512.3292</td>\n",
       "      <td>B51 B53 B55</td>\n",
       "      <td>C</td>\n",
       "      <td>3</td>\n",
       "      <td>NaN</td>\n",
       "      <td>Germantown, Philadelphia, PA</td>\n",
       "    </tr>\n",
       "    <tr>\n",
       "      <th>183</th>\n",
       "      <td>1.0</td>\n",
       "      <td>1.0</td>\n",
       "      <td>Lesurer, Mr. Gustave J</td>\n",
       "      <td>male</td>\n",
       "      <td>35.0</td>\n",
       "      <td>0.0</td>\n",
       "      <td>0.0</td>\n",
       "      <td>PC 17755</td>\n",
       "      <td>512.3292</td>\n",
       "      <td>B101</td>\n",
       "      <td>C</td>\n",
       "      <td>3</td>\n",
       "      <td>NaN</td>\n",
       "      <td>NaN</td>\n",
       "    </tr>\n",
       "    <tr>\n",
       "      <th>302</th>\n",
       "      <td>1.0</td>\n",
       "      <td>1.0</td>\n",
       "      <td>Ward, Miss. Anna</td>\n",
       "      <td>female</td>\n",
       "      <td>35.0</td>\n",
       "      <td>0.0</td>\n",
       "      <td>0.0</td>\n",
       "      <td>PC 17755</td>\n",
       "      <td>512.3292</td>\n",
       "      <td>NaN</td>\n",
       "      <td>C</td>\n",
       "      <td>3</td>\n",
       "      <td>NaN</td>\n",
       "      <td>NaN</td>\n",
       "    </tr>\n",
       "  </tbody>\n",
       "</table>\n",
       "</div>"
      ],
      "text/plain": [
       "     pclass  survived                                               name  \\\n",
       "49      1.0       1.0                 Cardeza, Mr. Thomas Drake Martinez   \n",
       "50      1.0       1.0  Cardeza, Mrs. James Warburton Martinez (Charlo...   \n",
       "183     1.0       1.0                             Lesurer, Mr. Gustave J   \n",
       "302     1.0       1.0                                   Ward, Miss. Anna   \n",
       "\n",
       "        sex   age  sibsp  parch    ticket      fare        cabin embarked  \\\n",
       "49     male  36.0    0.0    1.0  PC 17755  512.3292  B51 B53 B55        C   \n",
       "50   female  58.0    0.0    1.0  PC 17755  512.3292  B51 B53 B55        C   \n",
       "183    male  35.0    0.0    0.0  PC 17755  512.3292         B101        C   \n",
       "302  female  35.0    0.0    0.0  PC 17755  512.3292          NaN        C   \n",
       "\n",
       "    boat  body                                       home.dest  \n",
       "49     3   NaN  Austria-Hungary / Germantown, Philadelphia, PA  \n",
       "50     3   NaN                    Germantown, Philadelphia, PA  \n",
       "183    3   NaN                                             NaN  \n",
       "302    3   NaN                                             NaN  "
      ]
     },
     "execution_count": 127,
     "metadata": {},
     "output_type": "execute_result"
    }
   ],
   "source": [
    "# Let's check who paid Highest fare for titanic :\n",
    "index = np.where(tit_data[\"fare\"] == max(tit_data[\"fare\"]) )\n",
    "tit_data.loc[index]\n",
    "\n",
    "# Fortunately all these four were survived in Titanic Crash"
   ]
  },
  {
   "cell_type": "code",
   "execution_count": 129,
   "metadata": {
    "scrolled": false
   },
   "outputs": [
    {
     "name": "stderr",
     "output_type": "stream",
     "text": [
      "C:\\Users\\julian\\Anaconda3\\lib\\site-packages\\ipykernel_launcher.py:5: DeprecationWarning: \n",
      ".ix is deprecated. Please use\n",
      ".loc for label based indexing or\n",
      ".iloc for positional indexing\n",
      "\n",
      "See the documentation here:\n",
      "http://pandas.pydata.org/pandas-docs/stable/indexing.html#ix-indexer-is-deprecated\n",
      "  \"\"\"\n"
     ]
    },
    {
     "data": {
      "text/html": [
       "<div>\n",
       "<style scoped>\n",
       "    .dataframe tbody tr th:only-of-type {\n",
       "        vertical-align: middle;\n",
       "    }\n",
       "\n",
       "    .dataframe tbody tr th {\n",
       "        vertical-align: top;\n",
       "    }\n",
       "\n",
       "    .dataframe thead th {\n",
       "        text-align: right;\n",
       "    }\n",
       "</style>\n",
       "<table border=\"1\" class=\"dataframe\">\n",
       "  <thead>\n",
       "    <tr style=\"text-align: right;\">\n",
       "      <th></th>\n",
       "      <th>pclass</th>\n",
       "      <th>survived</th>\n",
       "      <th>name</th>\n",
       "      <th>sex</th>\n",
       "      <th>age</th>\n",
       "      <th>sibsp</th>\n",
       "      <th>parch</th>\n",
       "      <th>ticket</th>\n",
       "      <th>fare</th>\n",
       "      <th>cabin</th>\n",
       "      <th>embarked</th>\n",
       "      <th>boat</th>\n",
       "      <th>body</th>\n",
       "      <th>home.dest</th>\n",
       "      <th>Family</th>\n",
       "    </tr>\n",
       "  </thead>\n",
       "  <tbody>\n",
       "    <tr>\n",
       "      <th>1170</th>\n",
       "      <td>3.0</td>\n",
       "      <td>0.0</td>\n",
       "      <td>Sage, Master. Thomas Henry</td>\n",
       "      <td>male</td>\n",
       "      <td>NaN</td>\n",
       "      <td>8.0</td>\n",
       "      <td>2.0</td>\n",
       "      <td>CA. 2343</td>\n",
       "      <td>69.55</td>\n",
       "      <td>NaN</td>\n",
       "      <td>S</td>\n",
       "      <td>NaN</td>\n",
       "      <td>NaN</td>\n",
       "      <td>NaN</td>\n",
       "      <td>10.0</td>\n",
       "    </tr>\n",
       "    <tr>\n",
       "      <th>1171</th>\n",
       "      <td>3.0</td>\n",
       "      <td>0.0</td>\n",
       "      <td>Sage, Master. William Henry</td>\n",
       "      <td>male</td>\n",
       "      <td>14.5</td>\n",
       "      <td>8.0</td>\n",
       "      <td>2.0</td>\n",
       "      <td>CA. 2343</td>\n",
       "      <td>69.55</td>\n",
       "      <td>NaN</td>\n",
       "      <td>S</td>\n",
       "      <td>NaN</td>\n",
       "      <td>67.0</td>\n",
       "      <td>NaN</td>\n",
       "      <td>10.0</td>\n",
       "    </tr>\n",
       "    <tr>\n",
       "      <th>1172</th>\n",
       "      <td>3.0</td>\n",
       "      <td>0.0</td>\n",
       "      <td>Sage, Miss. Ada</td>\n",
       "      <td>female</td>\n",
       "      <td>NaN</td>\n",
       "      <td>8.0</td>\n",
       "      <td>2.0</td>\n",
       "      <td>CA. 2343</td>\n",
       "      <td>69.55</td>\n",
       "      <td>NaN</td>\n",
       "      <td>S</td>\n",
       "      <td>NaN</td>\n",
       "      <td>NaN</td>\n",
       "      <td>NaN</td>\n",
       "      <td>10.0</td>\n",
       "    </tr>\n",
       "    <tr>\n",
       "      <th>1173</th>\n",
       "      <td>3.0</td>\n",
       "      <td>0.0</td>\n",
       "      <td>Sage, Miss. Constance Gladys</td>\n",
       "      <td>female</td>\n",
       "      <td>NaN</td>\n",
       "      <td>8.0</td>\n",
       "      <td>2.0</td>\n",
       "      <td>CA. 2343</td>\n",
       "      <td>69.55</td>\n",
       "      <td>NaN</td>\n",
       "      <td>S</td>\n",
       "      <td>NaN</td>\n",
       "      <td>NaN</td>\n",
       "      <td>NaN</td>\n",
       "      <td>10.0</td>\n",
       "    </tr>\n",
       "    <tr>\n",
       "      <th>1174</th>\n",
       "      <td>3.0</td>\n",
       "      <td>0.0</td>\n",
       "      <td>Sage, Miss. Dorothy Edith \"Dolly\"</td>\n",
       "      <td>female</td>\n",
       "      <td>NaN</td>\n",
       "      <td>8.0</td>\n",
       "      <td>2.0</td>\n",
       "      <td>CA. 2343</td>\n",
       "      <td>69.55</td>\n",
       "      <td>NaN</td>\n",
       "      <td>S</td>\n",
       "      <td>NaN</td>\n",
       "      <td>NaN</td>\n",
       "      <td>NaN</td>\n",
       "      <td>10.0</td>\n",
       "    </tr>\n",
       "    <tr>\n",
       "      <th>1175</th>\n",
       "      <td>3.0</td>\n",
       "      <td>0.0</td>\n",
       "      <td>Sage, Miss. Stella Anna</td>\n",
       "      <td>female</td>\n",
       "      <td>NaN</td>\n",
       "      <td>8.0</td>\n",
       "      <td>2.0</td>\n",
       "      <td>CA. 2343</td>\n",
       "      <td>69.55</td>\n",
       "      <td>NaN</td>\n",
       "      <td>S</td>\n",
       "      <td>NaN</td>\n",
       "      <td>NaN</td>\n",
       "      <td>NaN</td>\n",
       "      <td>10.0</td>\n",
       "    </tr>\n",
       "    <tr>\n",
       "      <th>1176</th>\n",
       "      <td>3.0</td>\n",
       "      <td>0.0</td>\n",
       "      <td>Sage, Mr. Douglas Bullen</td>\n",
       "      <td>male</td>\n",
       "      <td>NaN</td>\n",
       "      <td>8.0</td>\n",
       "      <td>2.0</td>\n",
       "      <td>CA. 2343</td>\n",
       "      <td>69.55</td>\n",
       "      <td>NaN</td>\n",
       "      <td>S</td>\n",
       "      <td>NaN</td>\n",
       "      <td>NaN</td>\n",
       "      <td>NaN</td>\n",
       "      <td>10.0</td>\n",
       "    </tr>\n",
       "    <tr>\n",
       "      <th>1177</th>\n",
       "      <td>3.0</td>\n",
       "      <td>0.0</td>\n",
       "      <td>Sage, Mr. Frederick</td>\n",
       "      <td>male</td>\n",
       "      <td>NaN</td>\n",
       "      <td>8.0</td>\n",
       "      <td>2.0</td>\n",
       "      <td>CA. 2343</td>\n",
       "      <td>69.55</td>\n",
       "      <td>NaN</td>\n",
       "      <td>S</td>\n",
       "      <td>NaN</td>\n",
       "      <td>NaN</td>\n",
       "      <td>NaN</td>\n",
       "      <td>10.0</td>\n",
       "    </tr>\n",
       "    <tr>\n",
       "      <th>1178</th>\n",
       "      <td>3.0</td>\n",
       "      <td>0.0</td>\n",
       "      <td>Sage, Mr. George John Jr</td>\n",
       "      <td>male</td>\n",
       "      <td>NaN</td>\n",
       "      <td>8.0</td>\n",
       "      <td>2.0</td>\n",
       "      <td>CA. 2343</td>\n",
       "      <td>69.55</td>\n",
       "      <td>NaN</td>\n",
       "      <td>S</td>\n",
       "      <td>NaN</td>\n",
       "      <td>NaN</td>\n",
       "      <td>NaN</td>\n",
       "      <td>10.0</td>\n",
       "    </tr>\n",
       "    <tr>\n",
       "      <th>1179</th>\n",
       "      <td>3.0</td>\n",
       "      <td>0.0</td>\n",
       "      <td>Sage, Mr. John George</td>\n",
       "      <td>male</td>\n",
       "      <td>NaN</td>\n",
       "      <td>1.0</td>\n",
       "      <td>9.0</td>\n",
       "      <td>CA. 2343</td>\n",
       "      <td>69.55</td>\n",
       "      <td>NaN</td>\n",
       "      <td>S</td>\n",
       "      <td>NaN</td>\n",
       "      <td>NaN</td>\n",
       "      <td>NaN</td>\n",
       "      <td>10.0</td>\n",
       "    </tr>\n",
       "    <tr>\n",
       "      <th>1180</th>\n",
       "      <td>3.0</td>\n",
       "      <td>0.0</td>\n",
       "      <td>Sage, Mrs. John (Annie Bullen)</td>\n",
       "      <td>female</td>\n",
       "      <td>NaN</td>\n",
       "      <td>1.0</td>\n",
       "      <td>9.0</td>\n",
       "      <td>CA. 2343</td>\n",
       "      <td>69.55</td>\n",
       "      <td>NaN</td>\n",
       "      <td>S</td>\n",
       "      <td>NaN</td>\n",
       "      <td>NaN</td>\n",
       "      <td>NaN</td>\n",
       "      <td>10.0</td>\n",
       "    </tr>\n",
       "  </tbody>\n",
       "</table>\n",
       "</div>"
      ],
      "text/plain": [
       "      pclass  survived                               name     sex   age  \\\n",
       "1170     3.0       0.0         Sage, Master. Thomas Henry    male   NaN   \n",
       "1171     3.0       0.0        Sage, Master. William Henry    male  14.5   \n",
       "1172     3.0       0.0                    Sage, Miss. Ada  female   NaN   \n",
       "1173     3.0       0.0       Sage, Miss. Constance Gladys  female   NaN   \n",
       "1174     3.0       0.0  Sage, Miss. Dorothy Edith \"Dolly\"  female   NaN   \n",
       "1175     3.0       0.0            Sage, Miss. Stella Anna  female   NaN   \n",
       "1176     3.0       0.0           Sage, Mr. Douglas Bullen    male   NaN   \n",
       "1177     3.0       0.0                Sage, Mr. Frederick    male   NaN   \n",
       "1178     3.0       0.0           Sage, Mr. George John Jr    male   NaN   \n",
       "1179     3.0       0.0              Sage, Mr. John George    male   NaN   \n",
       "1180     3.0       0.0     Sage, Mrs. John (Annie Bullen)  female   NaN   \n",
       "\n",
       "      sibsp  parch    ticket   fare cabin embarked boat  body home.dest  \\\n",
       "1170    8.0    2.0  CA. 2343  69.55   NaN        S  NaN   NaN       NaN   \n",
       "1171    8.0    2.0  CA. 2343  69.55   NaN        S  NaN  67.0       NaN   \n",
       "1172    8.0    2.0  CA. 2343  69.55   NaN        S  NaN   NaN       NaN   \n",
       "1173    8.0    2.0  CA. 2343  69.55   NaN        S  NaN   NaN       NaN   \n",
       "1174    8.0    2.0  CA. 2343  69.55   NaN        S  NaN   NaN       NaN   \n",
       "1175    8.0    2.0  CA. 2343  69.55   NaN        S  NaN   NaN       NaN   \n",
       "1176    8.0    2.0  CA. 2343  69.55   NaN        S  NaN   NaN       NaN   \n",
       "1177    8.0    2.0  CA. 2343  69.55   NaN        S  NaN   NaN       NaN   \n",
       "1178    8.0    2.0  CA. 2343  69.55   NaN        S  NaN   NaN       NaN   \n",
       "1179    1.0    9.0  CA. 2343  69.55   NaN        S  NaN   NaN       NaN   \n",
       "1180    1.0    9.0  CA. 2343  69.55   NaN        S  NaN   NaN       NaN   \n",
       "\n",
       "      Family  \n",
       "1170    10.0  \n",
       "1171    10.0  \n",
       "1172    10.0  \n",
       "1173    10.0  \n",
       "1174    10.0  \n",
       "1175    10.0  \n",
       "1176    10.0  \n",
       "1177    10.0  \n",
       "1178    10.0  \n",
       "1179    10.0  \n",
       "1180    10.0  "
      ]
     },
     "execution_count": 129,
     "metadata": {},
     "output_type": "execute_result"
    }
   ],
   "source": [
    "tit_data[\"Family\"] = tit_data[\"sibsp\"] + tit_data[\"parch\"]\n",
    "\n",
    "most_family = np.where(tit_data[\"Family\"] == max(tit_data[\"Family\"]))\n",
    "\n",
    "tit_data.ix[most_family]"
   ]
  },
  {
   "cell_type": "code",
   "execution_count": 92,
   "metadata": {},
   "outputs": [
    {
     "name": "stdout",
     "output_type": "stream",
     "text": [
      "Youngest to survive: 0.1667 \n",
      "Youngest to die: 0.3333 \n",
      "Oldest to survive: 80.0 \n",
      "Oldest to die: 74.0\n"
     ]
    }
   ],
   "source": [
    "# Taking a look at some survival rates for babies\n",
    "youngest_to_survive = train_data[train_data['survived'] == True]['age'].min()\n",
    "youngest_to_die = train_data[train_data['survived'] == False]['age'].min()\n",
    "oldest_to_survive = train_data[train_data['survived'] == True]['age'].max()\n",
    "oldest_to_die = train_data[train_data['survived'] == False]['age'].max()\n",
    "\n",
    "print('Youngest to survive: {} \\nYoungest to die: {} \\nOldest to survive: {} \\nOldest to die: {}'.format(\n",
    "youngest_to_survive, youngest_to_die, oldest_to_survive, oldest_to_die))\n"
   ]
  },
  {
   "cell_type": "code",
   "execution_count": 13,
   "metadata": {},
   "outputs": [
    {
     "data": {
      "image/png": "[encoded data removed]",
      "text/plain": [
       "<Figure size 576x360 with 2 Axes>"
      ]
     },
     "metadata": {},
     "output_type": "display_data"
    }
   ],
   "source": [
    "sns.set(style=\"white\") #white background style for seaborn plots\n",
    "sns.set(style=\"whitegrid\", color_codes=True)\n",
    "Selected_features = ['age',  'pclass','embarked','sex','survived','fare']\n",
    "X = train_data[Selected_features]\n",
    "\n",
    "plt.subplots(figsize=(8, 5))\n",
    "sns.heatmap(X.corr(), annot=True, cmap=\"RdYlGn\")\n",
    "plt.show()"
   ]
  },
  {
   "cell_type": "code",
   "execution_count": 9,
   "metadata": {},
   "outputs": [],
   "source": [
    "# Preparing data for testing with alogoritm models :\n",
    "\n",
    "# pass the same seed for to get same data sets to train set and test set :\n",
    "np.random.seed(42)\n",
    "\n",
    "def split_train_test(data, test_ratio):\n",
    "    shuffled_indices=np.random.permutation(len(data))\n",
    "    test_set_size=int(len(data)*test_ratio)\n",
    "    test_indices=shuffled_indices[:test_set_size]\n",
    "    train_indices=shuffled_indices[test_set_size:]\n",
    "    return data.iloc[train_indices], data.iloc[test_indices]"
   ]
  },
  {
   "cell_type": "code",
   "execution_count": 12,
   "metadata": {},
   "outputs": [
    {
     "name": "stdout",
     "output_type": "stream",
     "text": [
      "size of train_set : 835\n",
      "size of test_set : 208\n"
     ]
    }
   ],
   "source": [
    "train_set, test_set= split_train_test(train_data, 0.2)\n",
    "print(\"size of train_set :\",len(train_set))\n",
    "print(\"size of test_set :\",len(test_set))"
   ]
  },
  {
   "cell_type": "code",
   "execution_count": 13,
   "metadata": {},
   "outputs": [
    {
     "name": "stdout",
     "output_type": "stream",
     "text": [
      "      pclass   age     sex embarked  survived     fare\n",
      "568      2.0  18.5    male        S       0.0   13.000\n",
      "250      1.0  18.0  female        C       1.0  262.375\n",
      "1211     3.0  45.0  female        S       0.0   27.900\n",
      "616      3.0  24.0    male        S       0.0    7.050\n",
      "532      2.0  41.0    male        S       0.0   13.000\n",
      "      pclass   age   sex embarked  survived   fare\n",
      "240      1.0  45.0  male        S       1.0  26.55\n",
      "51       1.0  33.0  male        S       0.0   5.00\n",
      "831      3.0  40.0  male        S       0.0  46.90\n",
      "1051     3.0  33.0  male        S       0.0   8.05\n",
      "30       1.0  45.0  male        S       0.0  35.50\n"
     ]
    }
   ],
   "source": [
    "print(train_set.head(5))\n",
    "print(test_set.head(5))"
   ]
  },
  {
   "cell_type": "code",
   "execution_count": 18,
   "metadata": {},
   "outputs": [],
   "source": [
    "# Implimentation :\n",
    "\n",
    "import hashlib\n",
    "\n",
    "def test_set_check(identifier, test_ratio, hash):\n",
    "     return hash(np.int64(identifier)).digest()[-1]<259*test_ratio\n",
    "    \n",
    "def split_train_test_by_id(data, test_ratio, id_column, hash=hashlib.md5):\n",
    "    ids=data[id_column]\n",
    "    in_test_set=ids.apply(lambda id_: test_set_check(id_, test_ratio, hash))\n",
    "    return data.loc[~in_test_set], data.loc[in_test_set]"
   ]
  },
  {
   "cell_type": "code",
   "execution_count": 19,
   "metadata": {},
   "outputs": [
    {
     "name": "stdout",
     "output_type": "stream",
     "text": [
      "size of train_set : 844\n",
      "size of test_set : 199\n"
     ]
    }
   ],
   "source": [
    "titanic_data_id=train_data.reset_index()\n",
    "train_set, test_set = split_train_test_by_id(titanic_data_id, 0.2, \"index\")\n",
    "print(\"size of train_set :\",len(train_set))\n",
    "print(\"size of test_set :\",len(test_set))"
   ]
  },
  {
   "cell_type": "code",
   "execution_count": 20,
   "metadata": {},
   "outputs": [
    {
     "name": "stdout",
     "output_type": "stream",
     "text": [
      "   index  pclass      age     sex embarked  survived      fare\n",
      "0      0     1.0  29.0000  female        S       1.0  211.3375\n",
      "1      1     1.0   0.9167    male        S       1.0  151.5500\n",
      "2      2     1.0   2.0000  female        S       0.0  151.5500\n",
      "3      3     1.0  30.0000    male        S       0.0  151.5500\n",
      "6      6     1.0  63.0000  female        S       1.0   77.9583\n",
      "    index  pclass   age     sex embarked  survived      fare\n",
      "4       4     1.0  25.0  female        S       0.0  151.5500\n",
      "5       5     1.0  48.0    male        S       1.0   26.5500\n",
      "11     11     1.0  18.0  female        C       1.0  227.5250\n",
      "19     20     1.0  37.0    male        S       1.0   52.5542\n",
      "22     23     1.0  42.0  female        C       1.0  227.5250\n"
     ]
    }
   ],
   "source": [
    "print(train_set.head(5))\n",
    "print(test_set.head(5))"
   ]
  },
  {
   "cell_type": "code",
   "execution_count": 22,
   "metadata": {},
   "outputs": [
    {
     "name": "stdout",
     "output_type": "stream",
     "text": [
      "size of train_set : 834\n",
      "size of test_set : 209\n"
     ]
    }
   ],
   "source": [
    "from sklearn.model_selection import train_test_split\n",
    "\n",
    "train_set, test_set = train_test_split(train_data, test_size=0.2, random_state=42)\n",
    "print(\"size of train_set :\",len(train_set))\n",
    "print(\"size of test_set :\",len(test_set))"
   ]
  },
  {
   "cell_type": "code",
   "execution_count": 23,
   "metadata": {},
   "outputs": [
    {
     "name": "stdout",
     "output_type": "stream",
     "text": [
      "      pclass   age     sex embarked  survived      fare\n",
      "601      3.0  13.0    male        S       0.0   20.2500\n",
      "294      1.0  49.0    male        C       0.0  110.8833\n",
      "394      2.0  18.0    male        S       0.0   73.5000\n",
      "65       1.0  33.0  female        S       1.0   53.1000\n",
      "1125     3.0  24.0    male        S       0.0    8.0500\n",
      "      pclass      age     sex embarked  survived    fare\n",
      "1298     3.0  36.0000    male        S       0.0   9.500\n",
      "321      1.0  62.0000    male        S       0.0  26.550\n",
      "590      2.0   0.9167  female        S       1.0  27.750\n",
      "935      3.0  29.0000    male        S       1.0  22.025\n",
      "704      3.0  21.0000    male        S       0.0   8.050\n"
     ]
    }
   ],
   "source": [
    "print(train_set.head(5))\n",
    "print(test_set.head(5))"
   ]
  },
  {
   "cell_type": "code",
   "execution_count": 12,
   "metadata": {},
   "outputs": [
    {
     "name": "stderr",
     "output_type": "stream",
     "text": [
      "C:\\Users\\julian\\Anaconda3\\lib\\site-packages\\ipykernel_launcher.py:4: SettingWithCopyWarning: \n",
      "A value is trying to be set on a copy of a slice from a DataFrame\n",
      "\n",
      "See the caveats in the documentation: http://pandas.pydata.org/pandas-docs/stable/indexing.html#indexing-view-versus-copy\n",
      "  after removing the cwd from sys.path.\n",
      "C:\\Users\\julian\\Anaconda3\\lib\\site-packages\\pandas\\core\\generic.py:7626: SettingWithCopyWarning: \n",
      "A value is trying to be set on a copy of a slice from a DataFrame\n",
      "\n",
      "See the caveats in the documentation: http://pandas.pydata.org/pandas-docs/stable/indexing.html#indexing-view-versus-copy\n",
      "  self._update_inplace(new_data)\n",
      "C:\\Users\\julian\\Anaconda3\\lib\\site-packages\\IPython\\core\\interactiveshell.py:3267: SettingWithCopyWarning: \n",
      "A value is trying to be set on a copy of a slice from a DataFrame\n",
      "\n",
      "See the caveats in the documentation: http://pandas.pydata.org/pandas-docs/stable/indexing.html#indexing-view-versus-copy\n",
      "  exec(code_obj, self.user_global_ns, self.user_ns)\n",
      "C:\\Users\\julian\\Anaconda3\\lib\\site-packages\\ipykernel_launcher.py:5: SettingWithCopyWarning: \n",
      "A value is trying to be set on a copy of a slice from a DataFrame\n",
      "\n",
      "See the caveats in the documentation: http://pandas.pydata.org/pandas-docs/stable/indexing.html#indexing-view-versus-copy\n",
      "  \"\"\"\n",
      "C:\\Users\\julian\\Anaconda3\\lib\\site-packages\\ipykernel_launcher.py:6: SettingWithCopyWarning: \n",
      "A value is trying to be set on a copy of a slice from a DataFrame\n",
      "\n",
      "See the caveats in the documentation: http://pandas.pydata.org/pandas-docs/stable/indexing.html#indexing-view-versus-copy\n",
      "  \n",
      "C:\\Users\\julian\\Anaconda3\\lib\\site-packages\\ipykernel_launcher.py:7: SettingWithCopyWarning: \n",
      "A value is trying to be set on a copy of a slice from a DataFrame\n",
      "\n",
      "See the caveats in the documentation: http://pandas.pydata.org/pandas-docs/stable/indexing.html#indexing-view-versus-copy\n",
      "  import sys\n",
      "C:\\Users\\julian\\Anaconda3\\lib\\site-packages\\ipykernel_launcher.py:8: SettingWithCopyWarning: \n",
      "A value is trying to be set on a copy of a slice from a DataFrame\n",
      "\n",
      "See the caveats in the documentation: http://pandas.pydata.org/pandas-docs/stable/indexing.html#indexing-view-versus-copy\n",
      "  \n"
     ]
    }
   ],
   "source": [
    "# Data Conversion Categorical to Numerical :\n",
    "\n",
    "\n",
    "train_data.sex[train_data.sex=='female']=0\n",
    "train_data.sex[train_data.sex=='male']=1\n",
    "train_data.embarked[train_data.embarked=='C']=1\n",
    "train_data.embarked[train_data.embarked=='S']=2\n",
    "train_data.embarked[train_data.embarked=='Q']=3"
   ]
  },
  {
   "cell_type": "code",
   "execution_count": 13,
   "metadata": {},
   "outputs": [],
   "source": [
    "from sklearn import model_selection\n",
    "\n",
    "X = train_data[['pclass','age','sex','embarked']]\n",
    "Y = train_data[['survived']]\n",
    "\n",
    "X_train, X_test, Y_train, Y_test = model_selection.train_test_split(X, Y, test_size=0.30, random_state=0)"
   ]
  },
  {
   "cell_type": "code",
   "execution_count": 14,
   "metadata": {},
   "outputs": [
    {
     "name": "stderr",
     "output_type": "stream",
     "text": [
      "C:\\Users\\julian\\Anaconda3\\lib\\site-packages\\sklearn\\ensemble\\forest.py:246: FutureWarning: The default value of n_estimators will change from 10 in version 0.20 to 100 in 0.22.\n",
      "  \"10 in version 0.20 to 100 in 0.22.\", FutureWarning)\n",
      "C:\\Users\\julian\\Anaconda3\\lib\\site-packages\\ipykernel_launcher.py:5: DataConversionWarning: A column-vector y was passed when a 1d array was expected. Please change the shape of y to (n_samples,), for example using ravel().\n",
      "  \"\"\"\n",
      "C:\\Users\\julian\\Anaconda3\\lib\\site-packages\\ipykernel_launcher.py:10: DataConversionWarning: A column-vector y was passed when a 1d array was expected. Please change the shape of y to (n_samples,), for example using ravel().\n",
      "  # Remove the CWD from sys.path while we load stuff.\n"
     ]
    },
    {
     "name": "stdout",
     "output_type": "stream",
     "text": [
      "[1.]\n",
      "78.59424920127796\n",
      "78.59424920127796\n"
     ]
    }
   ],
   "source": [
    "from sklearn.ensemble import RandomForestClassifier\n",
    "from sklearn.metrics import accuracy_score\n",
    "\n",
    "rfor = RandomForestClassifier()\n",
    "rfor.fit(X,Y)\n",
    "\n",
    "P = [[2,28,0,1]]\n",
    "print(rfor.predict(P))\n",
    "\n",
    "rfor.fit(X_train,Y_train)\n",
    "#print(round(rfor.score(X_train,Y_train), 4)*100)\n",
    "\n",
    "# predicting the test set results\n",
    "Y_pred=rfor.predict(X_test)\n",
    "#print(y_pred)\n",
    "\n",
    "print(rfor.score(X_test,Y_test)*100)\n",
    "print(accuracy_score(Y_test,Y_pred)*100)"
   ]
  },
  {
   "cell_type": "code",
   "execution_count": 16,
   "metadata": {},
   "outputs": [
    {
     "name": "stdout",
     "output_type": "stream",
     "text": [
      "[1.]\n",
      "79.2332268370607\n",
      "79.2332268370607\n"
     ]
    },
    {
     "name": "stderr",
     "output_type": "stream",
     "text": [
      "C:\\Users\\julian\\Anaconda3\\lib\\site-packages\\sklearn\\linear_model\\logistic.py:433: FutureWarning: Default solver will be changed to 'lbfgs' in 0.22. Specify a solver to silence this warning.\n",
      "  FutureWarning)\n",
      "C:\\Users\\julian\\Anaconda3\\lib\\site-packages\\sklearn\\utils\\validation.py:761: DataConversionWarning: A column-vector y was passed when a 1d array was expected. Please change the shape of y to (n_samples, ), for example using ravel().\n",
      "  y = column_or_1d(y, warn=True)\n"
     ]
    }
   ],
   "source": [
    "from sklearn.linear_model import LogisticRegression\n",
    "\n",
    "logmodel = LogisticRegression()\n",
    "logmodel.fit(X_train,Y_train)\n",
    "\n",
    "#predictions = logmodel.predict(X_test)\n",
    "#predictions\n",
    "\n",
    "P = [[2,28,0,1]]\n",
    "print(logmodel.predict(P))\n",
    "#print(round(logmodel.score(X_train,Y_train), 4)*100)\n",
    "\n",
    "Y_pred=logmodel.predict(X_test)\n",
    "#print(y_pred)\n",
    "print(logmodel.score(X_test,Y_test)*100)\n",
    "print(accuracy_score(Y_test,Y_pred)*100)"
   ]
  },
  {
   "cell_type": "code",
   "execution_count": 17,
   "metadata": {},
   "outputs": [
    {
     "name": "stdout",
     "output_type": "stream",
     "text": [
      "[1.]\n",
      "78.27476038338658\n",
      "78.27476038338658\n"
     ]
    }
   ],
   "source": [
    "from sklearn.tree import DecisionTreeClassifier\n",
    "\n",
    "clf = DecisionTreeClassifier(random_state=0)\n",
    "clf.fit(X_train,Y_train)\n",
    "\n",
    "P = [[2,28,0,1]]\n",
    "print(clf.predict(P))\n",
    "#print(round(clf.score(X_train,Y_train), 4)*100)\n",
    "\n",
    "Y_pred=clf.predict(X_test)\n",
    "\n",
    "#print(y_pred)\n",
    "print(clf.score(X_test,Y_test)*100)\n",
    "print(accuracy_score(Y_test,Y_pred)*100)"
   ]
  },
  {
   "cell_type": "code",
   "execution_count": 23,
   "metadata": {},
   "outputs": [
    {
     "name": "stdout",
     "output_type": "stream",
     "text": [
      "DecisionTreeCLassification Precision: 0.7810\n",
      "RandomForestClassifier Precision: 0.7381\n",
      "LogisticRegression Precision: 0.7870\n",
      "---------------------------------------------------\n",
      "DecisionTreeCLassification Recall: 0.6457\n",
      "RandomForestClassifier Recall: 0.7323\n",
      "LogisticRegression Recall: 0.6693\n",
      "---------------------------------------------------\n",
      "              precision    recall  f1-score   support\n",
      "\n",
      "         0.0       0.78      0.88      0.83       186\n",
      "         1.0       0.78      0.65      0.71       127\n",
      "\n",
      "   micro avg       0.78      0.78      0.78       313\n",
      "   macro avg       0.78      0.76      0.77       313\n",
      "weighted avg       0.78      0.78      0.78       313\n",
      "\n",
      "              precision    recall  f1-score   support\n",
      "\n",
      "         0.0       0.82      0.82      0.82       186\n",
      "         1.0       0.74      0.73      0.74       127\n",
      "\n",
      "   micro avg       0.79      0.79      0.79       313\n",
      "   macro avg       0.78      0.78      0.78       313\n",
      "weighted avg       0.79      0.79      0.79       313\n",
      "\n",
      "              precision    recall  f1-score   support\n",
      "\n",
      "         0.0       0.80      0.88      0.83       186\n",
      "         1.0       0.79      0.67      0.72       127\n",
      "\n",
      "   micro avg       0.79      0.79      0.79       313\n",
      "   macro avg       0.79      0.77      0.78       313\n",
      "weighted avg       0.79      0.79      0.79       313\n",
      "\n"
     ]
    }
   ],
   "source": [
    "from sklearn.metrics import confusion_matrix, classification_report, precision_score, recall_score, roc_curve, auc\n",
    "\n",
    "## Predict y given validation set\n",
    "clfpredictions = clf.predict(X_test)\n",
    "rforpredictions = rfor.predict(X_test)\n",
    "logregpredictions = logmodel.predict(X_test)\n",
    "\n",
    "## Take a look at the confusion matrix ([TN,FN],[FP,TP])\n",
    "#confusion_matrix(Y_test,clfpredictions)\n",
    "#confusion_matrix(Y_test,rforpredictions)\n",
    "#confusion_matrix(Y_test,logregpredictions)\n",
    "\n",
    "## Precision\n",
    "print(\"DecisionTreeCLassification Precision: %0.4f\" % precision_score(Y_test, clfpredictions))\n",
    "print(\"RandomForestClassifier Precision: %0.4f\" % precision_score(Y_test, rforpredictions))\n",
    "print(\"LogisticRegression Precision: %0.4f\" % precision_score(Y_test, logregpredictions))\n",
    "\n",
    "print(\"---------------------------------------------------\")\n",
    "\n",
    "## Recall score\n",
    "print(\"DecisionTreeCLassification Recall: %0.4f\" % recall_score(Y_test, clfpredictions))\n",
    "print(\"RandomForestClassifier Recall: %0.4f\" % recall_score(Y_test, rforpredictions))\n",
    "print(\"LogisticRegression Recall: %0.4f\" % recall_score(Y_test, logregpredictions))\n",
    "\n",
    "print(\"---------------------------------------------------\")\n",
    "\n",
    "\n",
    "# We can check precision,recall,f1-score using classification report!\n",
    "## Print classification report\n",
    "print(classification_report(Y_test, clfpredictions))\n",
    "print(classification_report(Y_test, rforpredictions))\n",
    "print(classification_report(Y_test, logregpredictions))"
   ]
  },
  {
   "cell_type": "code",
   "execution_count": 24,
   "metadata": {},
   "outputs": [
    {
     "name": "stdout",
     "output_type": "stream",
     "text": [
      "ROC Curve for DecisionTreeClassifier\n"
     ]
    },
    {
     "data": {
      "image/png": "[encoded data removed]",
      "text/plain": [
       "<Figure size 432x288 with 1 Axes>"
      ]
     },
     "metadata": {
      "needs_background": "light"
     },
     "output_type": "display_data"
    }
   ],
   "source": [
    "## Get data to plot ROC Curve\n",
    "print(\"ROC Curve for DecisionTreeClassifier\")\n",
    "fp, tp, th = roc_curve(Y_test, clfpredictions)\n",
    "roc_auc = auc(fp, tp)\n",
    "\n",
    "\n",
    "# In[54]:\n",
    "\n",
    "## Plot ROC Curve\n",
    "plt.title('ROC Curve')\n",
    "plt.plot(fp, tp, 'b',\n",
    "label='AUC = %0.2f'% roc_auc)\n",
    "plt.legend(loc='lower right')\n",
    "plt.plot([0,1],[0,1],'r--')\n",
    "plt.xlim([0,1])\n",
    "plt.ylim([0,1])\n",
    "plt.ylabel('True Positive Rate')\n",
    "plt.xlabel('False Positive Rate')\n",
    "plt.show()"
   ]
  },
  {
   "cell_type": "code",
   "execution_count": 25,
   "metadata": {},
   "outputs": [
    {
     "name": "stdout",
     "output_type": "stream",
     "text": [
      "ROC Curve for RandomForestClassifier\n"
     ]
    },
    {
     "data": {
      "image/png": "[encoded data removed]",
      "text/plain": [
       "<Figure size 432x288 with 1 Axes>"
      ]
     },
     "metadata": {
      "needs_background": "light"
     },
     "output_type": "display_data"
    }
   ],
   "source": [
    "## Get data to plot ROC Curve\n",
    "print(\"ROC Curve for RandomForestClassifier\")\n",
    "fp, tp, th = roc_curve(Y_test, rforpredictions)\n",
    "roc_auc = auc(fp, tp)\n",
    "\n",
    "\n",
    "# In[54]:\n",
    "\n",
    "## Plot ROC Curve\n",
    "plt.title('ROC Curve')\n",
    "plt.plot(fp, tp, 'b',\n",
    "label='AUC = %0.2f'% roc_auc)\n",
    "plt.legend(loc='lower right')\n",
    "plt.plot([0,1],[0,1],'r--')\n",
    "plt.xlim([0,1])\n",
    "plt.ylim([0,1])\n",
    "plt.ylabel('True Positive Rate')\n",
    "plt.xlabel('False Positive Rate')\n",
    "plt.show()"
   ]
  },
  {
   "cell_type": "code",
   "execution_count": 26,
   "metadata": {},
   "outputs": [
    {
     "name": "stdout",
     "output_type": "stream",
     "text": [
      "ROC Curve for LogisticRegression\n"
     ]
    },
    {
     "data": {
      "image/png": "[encoded data removed]",
      "text/plain": [
       "<Figure size 432x288 with 1 Axes>"
      ]
     },
     "metadata": {
      "needs_background": "light"
     },
     "output_type": "display_data"
    }
   ],
   "source": [
    "## Get data to plot ROC Curve\n",
    "print(\"ROC Curve for LogisticRegression\")\n",
    "fp, tp, th = roc_curve(Y_test, logregpredictions)\n",
    "roc_auc = auc(fp, tp)\n",
    "\n",
    "\n",
    "# In[54]:\n",
    "\n",
    "## Plot ROC Curve\n",
    "plt.title('ROC Curve')\n",
    "plt.plot(fp, tp, 'b',\n",
    "label='AUC = %0.2f'% roc_auc)\n",
    "plt.legend(loc='lower right')\n",
    "plt.plot([0,1],[0,1],'r--')\n",
    "plt.xlim([0,1])\n",
    "plt.ylim([0,1])\n",
    "plt.ylabel('True Positive Rate')\n",
    "plt.xlabel('False Positive Rate')\n",
    "plt.show()"
   ]
  },
  {
   "cell_type": "code",
   "execution_count": 17,
   "metadata": {},
   "outputs": [
    {
     "name": "stdout",
     "output_type": "stream",
     "text": [
      "              precision    recall  f1-score   support\n",
      "\n",
      "         0.0       0.80      0.88      0.83       186\n",
      "         1.0       0.79      0.67      0.72       127\n",
      "\n",
      "   micro avg       0.79      0.79      0.79       313\n",
      "   macro avg       0.79      0.77      0.78       313\n",
      "weighted avg       0.79      0.79      0.79       313\n",
      "\n"
     ]
    }
   ],
   "source": [
    "# We can check precision,recall,f1-score using classification report!\n",
    "from sklearn.metrics import classification_report\n",
    "print(classification_report(Y_test,predictions))"
   ]
  },
  {
   "cell_type": "code",
   "execution_count": null,
   "metadata": {},
   "outputs": [],
   "source": [
    "import statsmodels.api as sm\n",
    "from statsmodels.sandbox.regression.predstd import wls_prediction_std\n",
    "from sklearn.ensemble import RandomForestClassifier\n",
    "\n",
    "X = train_data[['pclass','age','sex','embarked']]\n",
    "Y = train_data[['survived']]\n",
    "\n",
    "X_train, X_test, Y_train, Y_test = model_selection.train_test_split(X, Y, test_size=0.30, random_state=0)\n",
    "\n",
    "rfor = RandomForestClassifier()\n",
    "#train data\n",
    "rfor.fit(X_train, Y_train)\n",
    "\n",
    "P = pd.DataFrame([[2,22,0,1]])\n",
    "print(rfor.predict(P))\n",
    "\n",
    "#R-SQUARED AND ADJUSTED R-SQUARED COEFFICIENTS\n",
    "#model1=sm.OLS(X_train,Y_train)\n",
    "#result=model1.fit()\n",
    "#print(result.summary())"
   ]
  }
 ],
 "metadata": {
  "kernelspec": {
   "display_name": "Python 3",
   "language": "python",
   "name": "python3"
  },
  "language_info": {
   "codemirror_mode": {
    "name": "ipython",
    "version": 3
   },
   "file_extension": ".py",
   "mimetype": "text/x-python",
   "name": "python",
   "nbconvert_exporter": "python",
   "pygments_lexer": "ipython3",
   "version": "3.7.1"
  }
 },
 "nbformat": 4,
 "nbformat_minor": 2
}
